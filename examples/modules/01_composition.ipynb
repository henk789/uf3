{
 "cells": [
  {
   "cell_type": "code",
   "execution_count": 27,
   "id": "adult-procedure",
   "metadata": {
    "ExecuteTime": {
     "end_time": "2022-07-15T02:52:01.850534Z",
     "start_time": "2022-07-15T02:52:01.841723Z"
    }
   },
   "outputs": [],
   "source": [
    "import numpy as np\n",
    "\n",
    "from uf3.data import composition\n",
    "from ase import Atoms"
   ]
  },
  {
   "cell_type": "markdown",
   "id": "plain-museum",
   "metadata": {},
   "source": [
    "# Initializing ChemicalSystem\n",
    "\n",
    "```element_list``` should contain all elements expected to appear in the experiment. Elements may be provided as either symbols (str) or atomic numbers (int).\n",
    "\n",
    "```degree``` indicates the highest degree of n-body interactions to consider (i.e. where to truncate the many-body expansion). \n",
    "\n",
    "A value of two means the ChemicalSystem will handle pair-wise elemental interactions:\n",
    "- A-A\n",
    "- A-B ⟷ B-A\n",
    "- B-B\n",
    "\n",
    "A value of three means the ChemicalSystem will handle three-body elemental interactions:\n",
    "- A-A-A\n",
    "- A-B-A ⟷ A-A-B\n",
    "- A-B-B\n",
    "- B-A-A\n",
    "- B-A-B ⟷ B-B-A\n",
    "- B-B-B\n",
    "\n",
    "Symmetric interactions, denoted with \"⟷\", are treated as equivalent."
   ]
  },
  {
   "cell_type": "markdown",
   "id": "a8565750",
   "metadata": {},
   "source": [
    "Provided elements and all interactions are sorted by electronegativity."
   ]
  },
  {
   "cell_type": "code",
   "execution_count": 28,
   "id": "wireless-throw",
   "metadata": {
    "ExecuteTime": {
     "end_time": "2022-07-15T02:52:04.762990Z",
     "start_time": "2022-07-15T02:52:04.750366Z"
    }
   },
   "outputs": [
    {
     "name": "stdout",
     "output_type": "stream",
     "text": [
      "ChemicalSystem:\n",
      "    Elements: ('Na', 'Cl')\n",
      "    Degree: 2\n",
      "    Pairs: [('Na', 'Na'), ('Na', 'Cl'), ('Cl', 'Cl')]\n"
     ]
    }
   ],
   "source": [
    "element_list = [\"Na\", \"Cl\"]  # set of elements in system (str or int)\n",
    "degree = 2\n",
    "\n",
    "chemical_system = composition.ChemicalSystem(element_list, \n",
    "                                             degree=degree)\n",
    "print(chemical_system)"
   ]
  },
  {
   "cell_type": "code",
   "execution_count": 105,
   "id": "1fb0a231",
   "metadata": {
    "ExecuteTime": {
     "end_time": "2022-07-15T03:13:28.800256Z",
     "start_time": "2022-07-15T03:13:28.786777Z"
    }
   },
   "outputs": [
    {
     "name": "stdout",
     "output_type": "stream",
     "text": [
      "ChemicalSystem:\n",
      "    Elements: ('Na', 'Cl')\n",
      "    Degree: 3\n",
      "    Pairs: [('Na', 'Na'), ('Na', 'Cl'), ('Cl', 'Cl')]\n",
      "    Trios: [('Na', 'Na', 'Na'), ('Na', 'Na', 'Cl'), ('Na', 'Cl', 'Cl'), ('Cl', 'Na', 'Na'), ('Cl', 'Na', 'Cl'), ('Cl', 'Cl', 'Cl')]\n"
     ]
    }
   ],
   "source": [
    "element_list = [\"Cl\", \"Na\"]  # set of elements in system (str or int)\n",
    "degree = 3\n",
    "\n",
    "chemical_system = composition.ChemicalSystem(element_list, \n",
    "                                             degree=degree)\n",
    "print(chemical_system)"
   ]
  },
  {
   "cell_type": "markdown",
   "id": "endangered-barbados",
   "metadata": {
    "ExecuteTime": {
     "end_time": "2021-09-14T15:57:46.409271Z",
     "start_time": "2021-09-14T15:57:46.407232Z"
    }
   },
   "source": [
    "# ChemicalSystem interactions\n",
    "\n"
   ]
  },
  {
   "cell_type": "code",
   "execution_count": 107,
   "id": "hearing-atlantic",
   "metadata": {
    "ExecuteTime": {
     "end_time": "2022-07-15T03:13:32.586775Z",
     "start_time": "2022-07-15T03:13:32.568290Z"
    }
   },
   "outputs": [
    {
     "data": {
      "text/plain": [
       "{1: ('Na', 'Cl'),\n",
       " 2: [('Na', 'Na'), ('Na', 'Cl'), ('Cl', 'Cl')],\n",
       " 3: [('Na', 'Na', 'Na'),\n",
       "  ('Na', 'Na', 'Cl'),\n",
       "  ('Na', 'Cl', 'Cl'),\n",
       "  ('Cl', 'Na', 'Na'),\n",
       "  ('Cl', 'Na', 'Cl'),\n",
       "  ('Cl', 'Cl', 'Cl')]}"
      ]
     },
     "execution_count": 107,
     "metadata": {},
     "output_type": "execute_result"
    }
   ],
   "source": [
    "chemical_system.interactions_map"
   ]
  },
  {
   "cell_type": "markdown",
   "id": "197855c6",
   "metadata": {},
   "source": [
    "The one-body interaction can be used to fit the reference elemental energy.\n",
    "In VASP, this energy depends on the choice of pseudopotential and is equivalent to the energy of an isolated atom.\n",
    "\n",
    "In practice, chemical and material properties depend on energy differences.\n",
    "The various derivatives are also unaffected by the value of one-body terms.\n",
    "\n",
    "Therefore, for molecular dynamics, these energy offsets can be neglected.\n",
    "Currently, our LAMMPS interface does not use one-body terms."
   ]
  },
  {
   "cell_type": "code",
   "execution_count": 108,
   "id": "66b4f2a9",
   "metadata": {
    "ExecuteTime": {
     "end_time": "2022-07-15T03:13:33.229281Z",
     "start_time": "2022-07-15T03:13:33.222173Z"
    }
   },
   "outputs": [],
   "source": [
    "n_elements = len(chemical_system.element_list)\n",
    "\n",
    "assert len(chemical_system.interactions_map[1]) == n_elements"
   ]
  },
  {
   "cell_type": "markdown",
   "id": "69761170",
   "metadata": {
    "ExecuteTime": {
     "end_time": "2022-07-15T03:04:14.586192Z",
     "start_time": "2022-07-15T03:04:14.575507Z"
    }
   },
   "source": [
    "The number of pair interactions is equal to $C^R(n, 2)$ (combinations with replacement).\n",
    "\n",
    "$$C^R(n,r) = \\frac{(n + r - 1)!}{ r! (n - 1)! }$$"
   ]
  },
  {
   "cell_type": "code",
   "execution_count": 116,
   "id": "725fb2df",
   "metadata": {
    "ExecuteTime": {
     "end_time": "2022-07-15T03:20:16.466698Z",
     "start_time": "2022-07-15T03:20:16.453829Z"
    }
   },
   "outputs": [],
   "source": [
    "n_pairs = (np.math.factorial(n_elements + 2 - 1) / 2\n",
    "           / np.math.factorial(n_elements - 1))\n",
    "n_pairs = int(n_pairs)\n",
    "n_pairs = int(numerator / denominator)\n",
    "\n",
    "assert n_pairs == 3"
   ]
  },
  {
   "cell_type": "markdown",
   "id": "46ef76a0",
   "metadata": {},
   "source": [
    "One may visualize the set of three-body interactions as the cartesian product of the set of elements with the set of pair interactions.\n",
    "\n",
    "In general, the number of unique n-body interactions is given by the number of unique elements\n",
    "multiplied by the number of unique (n-1)-body interactions."
   ]
  },
  {
   "cell_type": "code",
   "execution_count": 120,
   "id": "9f8c8aa4",
   "metadata": {
    "ExecuteTime": {
     "end_time": "2022-07-15T03:23:00.569883Z",
     "start_time": "2022-07-15T03:23:00.562217Z"
    }
   },
   "outputs": [
    {
     "name": "stdout",
     "output_type": "stream",
     "text": [
      "6\n"
     ]
    }
   ],
   "source": [
    "n_trios = int(n_pairs * n_elements)\n",
    "print(n_trios)"
   ]
  },
  {
   "cell_type": "markdown",
   "id": "943efcc2",
   "metadata": {},
   "source": [
    "# Serialization"
   ]
  },
  {
   "cell_type": "code",
   "execution_count": 137,
   "id": "dfdd26cf",
   "metadata": {
    "ExecuteTime": {
     "end_time": "2022-07-15T03:34:08.924523Z",
     "start_time": "2022-07-15T03:34:08.913519Z"
    }
   },
   "outputs": [
    {
     "data": {
      "text/plain": [
       "{'element_list': ('Na', 'Cl'), 'degree': 3}"
      ]
     },
     "execution_count": 137,
     "metadata": {},
     "output_type": "execute_result"
    }
   ],
   "source": [
    "chemical_system.as_dict()"
   ]
  },
  {
   "cell_type": "code",
   "execution_count": 138,
   "id": "ea19f3de",
   "metadata": {
    "ExecuteTime": {
     "end_time": "2022-07-15T03:34:50.803937Z",
     "start_time": "2022-07-15T03:34:50.788871Z"
    }
   },
   "outputs": [],
   "source": [
    "loaded_system = composition.ChemicalSystem.from_dict({'element_list': ('Na', 'Cl'), \n",
    "                                                      'degree': 3})"
   ]
  },
  {
   "cell_type": "code",
   "execution_count": 139,
   "id": "ed9b8d54",
   "metadata": {
    "ExecuteTime": {
     "end_time": "2022-07-15T03:35:13.566266Z",
     "start_time": "2022-07-15T03:35:13.556164Z"
    }
   },
   "outputs": [],
   "source": [
    "assert loaded_system.element_list == (\"Na\", \"Cl\")\n",
    "assert loaded_system.degree == 3"
   ]
  },
  {
   "cell_type": "markdown",
   "id": "328a0532",
   "metadata": {},
   "source": [
    "# Szudzik Hashes"
   ]
  },
  {
   "cell_type": "markdown",
   "id": "64b042fc",
   "metadata": {},
   "source": [
    "Internally, n-body element combinations are often represented as integers.\n",
    "\n",
    "These integer hashes are obtained using the Szudzik pairing function.\n",
    "\n",
    "\\begin{equation}\n",
    "H(x, y)=\n",
    "    \\begin{cases}\n",
    "        x^2 + y & \\text{if } x > y\\\\\n",
    "        y^2 + x + y & \\text{if } x \\leq y\n",
    "    \\end{cases}\n",
    "\\end{equation}"
   ]
  },
  {
   "cell_type": "markdown",
   "id": "a2f7b58b",
   "metadata": {
    "ExecuteTime": {
     "end_time": "2022-07-15T03:30:31.959703Z",
     "start_time": "2022-07-15T03:30:31.949555Z"
    }
   },
   "source": [
    "Trivariate pairing is handled sequentially.\n",
    "\n",
    "$$H(x, y, z) = H(H(x, y), z)$$"
   ]
  },
  {
   "cell_type": "code",
   "execution_count": 129,
   "id": "d3877588",
   "metadata": {
    "ExecuteTime": {
     "end_time": "2022-07-15T03:31:52.295007Z",
     "start_time": "2022-07-15T03:31:52.284929Z"
    }
   },
   "outputs": [
    {
     "data": {
      "text/plain": [
       "{2: array([143, 317, 323]),\n",
       " 3: array([ 20460,  20466, 100506,  90011,  90017, 104346])}"
      ]
     },
     "execution_count": 129,
     "metadata": {},
     "output_type": "execute_result"
    }
   ],
   "source": [
    "chemical_system.interaction_hashes"
   ]
  },
  {
   "cell_type": "code",
   "execution_count": 130,
   "id": "99f2542c",
   "metadata": {
    "ExecuteTime": {
     "end_time": "2022-07-15T03:31:52.404344Z",
     "start_time": "2022-07-15T03:31:52.401410Z"
    }
   },
   "outputs": [],
   "source": [
    "assert composition.symbols_to_hash((\"Na\", \"Na\")) == 143"
   ]
  },
  {
   "cell_type": "code",
   "execution_count": 131,
   "id": "77135b45",
   "metadata": {
    "ExecuteTime": {
     "end_time": "2022-07-15T03:31:52.655115Z",
     "start_time": "2022-07-15T03:31:52.650831Z"
    }
   },
   "outputs": [],
   "source": [
    "assert composition.symbols_to_hash((\"Na\", \"Na\", \"Cl\")) == 20466"
   ]
  },
  {
   "cell_type": "code",
   "execution_count": 136,
   "id": "421760cc",
   "metadata": {
    "ExecuteTime": {
     "end_time": "2022-07-15T03:33:20.890565Z",
     "start_time": "2022-07-15T03:33:20.882264Z"
    }
   },
   "outputs": [],
   "source": [
    "assert composition.hash_to_symbols(317, n=2) == (\"Na\", \"Cl\")"
   ]
  },
  {
   "cell_type": "code",
   "execution_count": 134,
   "id": "632cf5a2",
   "metadata": {
    "ExecuteTime": {
     "end_time": "2022-07-15T03:33:05.045117Z",
     "start_time": "2022-07-15T03:33:05.035595Z"
    }
   },
   "outputs": [],
   "source": [
    "assert composition.hash_to_symbols(90017, n=3) == (\"Cl\", \"Na\", \"Cl\")"
   ]
  }
 ],
 "metadata": {
  "kernelspec": {
   "display_name": "Python 3 (ipykernel)",
   "language": "python",
   "name": "python3"
  },
  "language_info": {
   "codemirror_mode": {
    "name": "ipython",
    "version": 3
   },
   "file_extension": ".py",
   "mimetype": "text/x-python",
   "name": "python",
   "nbconvert_exporter": "python",
   "pygments_lexer": "ipython3",
   "version": "3.7.11"
  },
  "toc": {
   "base_numbering": 1,
   "nav_menu": {},
   "number_sections": true,
   "sideBar": true,
   "skip_h1_title": false,
   "title_cell": "Table of Contents",
   "title_sidebar": "Contents",
   "toc_cell": false,
   "toc_position": {},
   "toc_section_display": true,
   "toc_window_display": false
  }
 },
 "nbformat": 4,
 "nbformat_minor": 5
}
