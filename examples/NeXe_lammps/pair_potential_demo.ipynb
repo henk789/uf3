{
 "cells": [
  {
   "cell_type": "code",
   "execution_count": 1,
   "metadata": {
    "ExecuteTime": {
     "end_time": "2022-07-23T21:59:02.834243Z",
     "start_time": "2022-07-23T21:59:02.823231Z"
    },
    "pycharm": {
     "name": "#%%\n"
    }
   },
   "outputs": [],
   "source": [
    "import os\n",
    "from concurrent.futures import ProcessPoolExecutor"
   ]
  },
  {
   "cell_type": "code",
   "execution_count": 2,
   "metadata": {
    "ExecuteTime": {
     "end_time": "2022-07-23T21:59:03.048490Z",
     "start_time": "2022-07-23T21:59:02.835647Z"
    },
    "pycharm": {
     "name": "#%%\n"
    }
   },
   "outputs": [],
   "source": [
    "import numpy as np\n",
    "import matplotlib.pyplot as plt"
   ]
  },
  {
   "cell_type": "code",
   "execution_count": 3,
   "metadata": {
    "ExecuteTime": {
     "end_time": "2022-07-23T21:59:04.036423Z",
     "start_time": "2022-07-23T21:59:03.049452Z"
    },
    "pycharm": {
     "name": "#%%\n"
    }
   },
   "outputs": [],
   "source": [
    "from uf3.data import io\n",
    "from uf3.data import geometry\n",
    "from uf3.data import composition\n",
    "from uf3.representation import bspline\n",
    "from uf3.representation import distances\n",
    "from uf3.representation import process\n",
    "from uf3.regression import least_squares\n",
    "from uf3.forcefield import calculator\n",
    "from uf3.forcefield import lammps\n",
    "from uf3.util import parallel\n",
    "from uf3.util import plotting"
   ]
  },
  {
   "cell_type": "markdown",
   "metadata": {
    "ExecuteTime": {
     "start_time": "2021-09-27T14:45:45.123Z"
    }
   },
   "source": [
    "# $\\text{UF}_{2}$ Demo: Ne-Xe mixture"
   ]
  },
  {
   "cell_type": "markdown",
   "metadata": {},
   "source": [
    "**Data split**\n",
    "- Training set: 200 configurations (50% of the dataset)\n",
    "\n",
    "- Holdout: 201 configurations (remaining 50% of the dataset)"
   ]
  },
  {
   "cell_type": "markdown",
   "metadata": {},
   "source": [
    "**Inputs**\n",
    "- ```data/log.lammps``` (33.4 kb)\n",
    "- ```data/dump.lammpstrj``` (4.0 mb)"
   ]
  },
  {
   "cell_type": "markdown",
   "metadata": {},
   "source": [
    "**Outputs**\n",
    "- ```model_pair.json``` (2 kb)\n",
    "- ```table_test/Ne_Xe.table``` (98 kb)"
   ]
  },
  {
   "cell_type": "code",
   "execution_count": 4,
   "metadata": {
    "ExecuteTime": {
     "end_time": "2022-07-23T21:59:04.042562Z",
     "start_time": "2022-07-23T21:59:04.037706Z"
    }
   },
   "outputs": [
    {
     "data": {
      "text/html": [
       "<style>\n",
       "  table {margin-left: 0 !important;}\n",
       "</style>\n"
      ],
      "text/plain": [
       "<IPython.core.display.HTML object>"
      ]
     },
     "metadata": {},
     "output_type": "display_data"
    }
   ],
   "source": [
    "%%html\n",
    "<style>\n",
    "  table {margin-left: 0 !important;}\n",
    "</style>"
   ]
  },
  {
   "cell_type": "markdown",
   "metadata": {},
   "source": [
    " Step             | Estimated Time \n",
    ":-----------------|:--------------\n",
    "Preprocessing     | 2 seconds\n",
    "Pair distribution | 2 seconds\n",
    "Featurization     | 40 core-seconds (parallelizable)\n",
    "Training          | 1 second\n",
    "Prediction        | 1 second\n",
    "Plotting          | 1 second"
   ]
  },
  {
   "cell_type": "markdown",
   "metadata": {
    "pycharm": {
     "name": "#%% md\n"
    }
   },
   "source": [
    "# User Parameters\n",
    "\n",
    "```element_list (list)```: list of element symbols\n",
    "\n",
    "```degree (int)```: truncation of many-body expansion. A value of 2 yields a pair potential."
   ]
  },
  {
   "cell_type": "code",
   "execution_count": 5,
   "metadata": {
    "ExecuteTime": {
     "end_time": "2022-07-23T21:59:04.046033Z",
     "start_time": "2022-07-23T21:59:04.043661Z"
    },
    "pycharm": {
     "name": "#%%\n"
    }
   },
   "outputs": [],
   "source": [
    "element_list = [\"Ne\", \"Xe\"]\n",
    "degree = 2"
   ]
  },
  {
   "cell_type": "markdown",
   "metadata": {},
   "source": [
    "Initialize the ```ChemicalSystem``` and inspect interactions.\n",
    "\n",
    "Elements involved in each interactions are sorted by electronegativity."
   ]
  },
  {
   "cell_type": "code",
   "execution_count": 6,
   "metadata": {
    "ExecuteTime": {
     "end_time": "2022-07-23T21:59:04.050491Z",
     "start_time": "2022-07-23T21:59:04.047061Z"
    }
   },
   "outputs": [
    {
     "name": "stdout",
     "output_type": "stream",
     "text": [
      "Pairs: [('Ne', 'Ne'), ('Ne', 'Xe'), ('Xe', 'Xe')]\n"
     ]
    }
   ],
   "source": [
    "chemical_system = composition.ChemicalSystem(element_list=element_list,\n",
    "                                             degree=degree)\n",
    "print(\"Pairs:\", chemical_system.interactions_map[2])"
   ]
  },
  {
   "cell_type": "markdown",
   "metadata": {},
   "source": [
    "```r_min_map (dict)```: map of minimum pair distance per interaction (angstroms). \n",
    "    If unspecified, defaults to 1.0 for all interactions.\n",
    "    \n",
    "```r_max_map (dict)```: map of maximum pair distance per interaction (angstroms). \n",
    "    If unspecified, defaults to 6.0 angstroms for all interactions, which probably encompasses at least 2nd-nearest neighbors.\n",
    "    \n",
    "```resolution_map (dict)```: map of resolution (number of knot intervals) per interaction. \n",
    "    For the cubic basis, the number of basis functions equals three more than the number of knot intervals.\n",
    "    This is, in turn, negated by ```trailing_trim```.\n",
    "    If unspecified, defaults to 20 for all two-body interactions and 5 for three-body interactions.\n",
    "    \n",
    "```trailing_trim (int)```: number of trailing basis functions to trim, defaults to 3.\n",
    " - ```= 0```: hard cutoff at ```r_max```\n",
    " - ```= 1```: function goes to zero at ```r_max```\n",
    " - ```= 2```: first derivative goes to zero at ```r_max```\n",
    " - ```= 3```: second derivative goes to zero at ```r_max```"
   ]
  },
  {
   "cell_type": "code",
   "execution_count": 7,
   "metadata": {
    "ExecuteTime": {
     "end_time": "2022-07-23T21:59:04.054793Z",
     "start_time": "2022-07-23T21:59:04.051556Z"
    },
    "pycharm": {
     "name": "#%%\n"
    }
   },
   "outputs": [],
   "source": [
    "r_min_map = {(\"Ne\", \"Ne\"): 2.0,\n",
    "             (\"Ne\", \"Xe\"): 2.5,\n",
    "             (\"Xe\", \"Xe\"): 3.0,\n",
    "            }\n",
    "r_max_map = {(\"Ne\", \"Ne\"): 6.0,\n",
    "             (\"Ne\", \"Xe\"): 7.0,\n",
    "             (\"Xe\", \"Xe\"): 8.0,\n",
    "            }\n",
    "resolution_map = {(\"Ne\", \"Ne\"): 15,\n",
    "                  (\"Ne\", \"Xe\"): 15,\n",
    "                  (\"Xe\", \"Xe\"): 15,\n",
    "                 }\n",
    "trailing_trim = 3"
   ]
  },
  {
   "cell_type": "markdown",
   "metadata": {},
   "source": [
    "# Demo parameters\n",
    "```n_cores```: number of workers to use in parallel for feature generation\n",
    "\n",
    "```data_directory```: path to directory containing LAMMPS run\n",
    "\n",
    "```n_train```: number of sequential entries to use for training\n",
    "\n",
    "```lammps_aliases```: elements corresponding to integer identifiers in LAMMPS outputs."
   ]
  },
  {
   "cell_type": "code",
   "execution_count": 8,
   "metadata": {
    "ExecuteTime": {
     "end_time": "2022-07-23T21:59:04.057871Z",
     "start_time": "2022-07-23T21:59:04.055817Z"
    }
   },
   "outputs": [],
   "source": [
    "n_cores = 4"
   ]
  },
  {
   "cell_type": "code",
   "execution_count": 9,
   "metadata": {
    "ExecuteTime": {
     "end_time": "2022-07-23T21:59:04.061377Z",
     "start_time": "2022-07-23T21:59:04.058916Z"
    }
   },
   "outputs": [],
   "source": [
    "example_directory = os.getcwd()\n",
    "data_directory = os.path.join(example_directory, \"dataset\")"
   ]
  },
  {
   "cell_type": "code",
   "execution_count": 10,
   "metadata": {
    "ExecuteTime": {
     "end_time": "2022-07-23T21:59:04.065244Z",
     "start_time": "2022-07-23T21:59:04.063287Z"
    }
   },
   "outputs": [],
   "source": [
    "n_train = 200"
   ]
  },
  {
   "cell_type": "code",
   "execution_count": 11,
   "metadata": {
    "ExecuteTime": {
     "end_time": "2022-07-23T21:59:04.068045Z",
     "start_time": "2022-07-23T21:59:04.066092Z"
    }
   },
   "outputs": [],
   "source": [
    "lammps_aliases = {1: \"Ne\", 2: \"Xe\"}"
   ]
  },
  {
   "cell_type": "markdown",
   "metadata": {},
   "source": [
    "# Initialize basis"
   ]
  },
  {
   "cell_type": "markdown",
   "metadata": {},
   "source": [
    "**Unlike DFT codes, the reference energy per atom in LAMMPS is typically 0. This means we should not fit one-body terms, so ``offset_1b=False``.**"
   ]
  },
  {
   "cell_type": "code",
   "execution_count": 12,
   "metadata": {
    "ExecuteTime": {
     "end_time": "2022-07-23T21:59:04.073348Z",
     "start_time": "2022-07-23T21:59:04.068886Z"
    }
   },
   "outputs": [],
   "source": [
    "bspline_config = bspline.BSplineBasis(chemical_system,\n",
    "                                      r_min_map=r_min_map,\n",
    "                                      r_max_map=r_max_map,\n",
    "                                      offset_1b=False,\n",
    "                                      resolution_map=resolution_map,\n",
    "                                      trailing_trim=trailing_trim)"
   ]
  },
  {
   "cell_type": "markdown",
   "metadata": {},
   "source": [
    "```bspline_config.get_interaction_partitions()``` yields the number of coefficients for each n-body interaction (one-body terms, two-body terms, three-body terms, ...) as well as the starting index in the coefficient vector for each interaction."
   ]
  },
  {
   "cell_type": "code",
   "execution_count": 13,
   "metadata": {
    "ExecuteTime": {
     "end_time": "2022-07-23T21:59:04.077165Z",
     "start_time": "2022-07-23T21:59:04.074213Z"
    }
   },
   "outputs": [
    {
     "data": {
      "text/plain": [
       "{'Ne': 1, 'Xe': 1, ('Ne', 'Ne'): 18, ('Ne', 'Xe'): 18, ('Xe', 'Xe'): 18}"
      ]
     },
     "execution_count": 13,
     "metadata": {},
     "output_type": "execute_result"
    }
   ],
   "source": [
    "bspline_config.get_interaction_partitions()[0]"
   ]
  },
  {
   "cell_type": "code",
   "execution_count": 14,
   "metadata": {
    "ExecuteTime": {
     "end_time": "2022-07-23T21:59:04.081041Z",
     "start_time": "2022-07-23T21:59:04.078048Z"
    }
   },
   "outputs": [
    {
     "data": {
      "text/plain": [
       "{'Ne': 0, 'Xe': 1, ('Ne', 'Ne'): 2, ('Ne', 'Xe'): 20, ('Xe', 'Xe'): 38}"
      ]
     },
     "execution_count": 14,
     "metadata": {},
     "output_type": "execute_result"
    }
   ],
   "source": [
    "bspline_config.get_interaction_partitions()[1]"
   ]
  },
  {
   "cell_type": "markdown",
   "metadata": {
    "pycharm": {
     "name": "#%% md\n"
    }
   },
   "source": [
    "# Load data from LAMMPS run directory"
   ]
  },
  {
   "cell_type": "code",
   "execution_count": 15,
   "metadata": {
    "ExecuteTime": {
     "end_time": "2022-07-23T21:59:05.348106Z",
     "start_time": "2022-07-23T21:59:04.081827Z"
    },
    "pycharm": {
     "name": "#%%\n"
    }
   },
   "outputs": [
    {
     "name": "stdout",
     "output_type": "stream",
     "text": [
      "Number of energies: 401\n",
      "Number of forces: 76992\n"
     ]
    }
   ],
   "source": [
    "data_coordinator = io.DataCoordinator()\n",
    "data_coordinator.dataframe_from_lammps_run(data_directory,\n",
    "                                           lammps_aliases,\n",
    "                                           prefix=\"lmp\",\n",
    "                                           log_fname=\"log.lammps\",\n",
    "                                           dump_fname=\"dump.lammpstrj\")\n",
    "df_data = data_coordinator.consolidate()\n",
    "print(\"Number of energies:\", len(df_data))\n",
    "print(\"Number of forces:\", int(np.sum(df_data[\"size\"]) * 3))"
   ]
  },
  {
   "cell_type": "code",
   "execution_count": 16,
   "metadata": {
    "ExecuteTime": {
     "end_time": "2022-07-23T21:59:05.374090Z",
     "start_time": "2022-07-23T21:59:05.349185Z"
    },
    "pycharm": {
     "name": "#%%\n"
    }
   },
   "outputs": [
    {
     "data": {
      "text/html": [
       "<div>\n",
       "<style scoped>\n",
       "    .dataframe tbody tr th:only-of-type {\n",
       "        vertical-align: middle;\n",
       "    }\n",
       "\n",
       "    .dataframe tbody tr th {\n",
       "        vertical-align: top;\n",
       "    }\n",
       "\n",
       "    .dataframe thead th {\n",
       "        text-align: right;\n",
       "    }\n",
       "</style>\n",
       "<table border=\"1\" class=\"dataframe\">\n",
       "  <thead>\n",
       "    <tr style=\"text-align: right;\">\n",
       "      <th></th>\n",
       "      <th>Step</th>\n",
       "      <th>Temp</th>\n",
       "      <th>Press</th>\n",
       "      <th>TotEng</th>\n",
       "      <th>energy</th>\n",
       "      <th>geometry</th>\n",
       "      <th>size</th>\n",
       "      <th>fx</th>\n",
       "      <th>fy</th>\n",
       "      <th>fz</th>\n",
       "    </tr>\n",
       "  </thead>\n",
       "  <tbody>\n",
       "    <tr>\n",
       "      <th>lmp_0</th>\n",
       "      <td>0</td>\n",
       "      <td>0.100000</td>\n",
       "      <td>0.300731</td>\n",
       "      <td>-4.425584</td>\n",
       "      <td>-4.426398</td>\n",
       "      <td>(Atom('Ne', [15.1239130886, 15.1239130886, 0.8...</td>\n",
       "      <td>64.0</td>\n",
       "      <td>[0.0, -0.0, -0.0, 0.0, 0.0, -0.0, -0.0, 0.0, 0...</td>\n",
       "      <td>[0.0, -0.0, 0.0, -0.0, 0.0, -0.0, 0.0, -0.0, 0...</td>\n",
       "      <td>[-0.0, -0.0, 0.0, 0.0, -0.0, -0.0, 0.0, 0.0, -...</td>\n",
       "    </tr>\n",
       "    <tr>\n",
       "      <th>lmp_1</th>\n",
       "      <td>1000</td>\n",
       "      <td>5.624945</td>\n",
       "      <td>-73.317322</td>\n",
       "      <td>-4.412308</td>\n",
       "      <td>-4.458114</td>\n",
       "      <td>(Atom('Ne', [15.1653143436, 15.1792692817, 0.8...</td>\n",
       "      <td>64.0</td>\n",
       "      <td>[0.0002044265, 0.0016639457, 0.001921414, -0.0...</td>\n",
       "      <td>[0.0056729229, 0.0009264524, 0.0025165864, -0....</td>\n",
       "      <td>[-0.0015951115, -0.0019227623, -0.0035339883, ...</td>\n",
       "    </tr>\n",
       "    <tr>\n",
       "      <th>lmp_2</th>\n",
       "      <td>2000</td>\n",
       "      <td>10.808590</td>\n",
       "      <td>-428.025400</td>\n",
       "      <td>-4.639121</td>\n",
       "      <td>-4.727139</td>\n",
       "      <td>(Atom('Ne', [0.9063913729, 1.3488837164, 15.02...</td>\n",
       "      <td>64.0</td>\n",
       "      <td>[0.0015836836, -0.0023350728, 0.0026551034, 0....</td>\n",
       "      <td>[-3.38791e-05, 0.002999284, -0.0060387845, 0.0...</td>\n",
       "      <td>[-0.0036139711, -0.0023498482, 0.0036703891, 0...</td>\n",
       "    </tr>\n",
       "    <tr>\n",
       "      <th>lmp_3</th>\n",
       "      <td>3000</td>\n",
       "      <td>14.861731</td>\n",
       "      <td>-1202.434200</td>\n",
       "      <td>-4.878347</td>\n",
       "      <td>-4.999372</td>\n",
       "      <td>(Atom('Ne', [1.3474466084, 1.2753605426, 14.56...</td>\n",
       "      <td>64.0</td>\n",
       "      <td>[-0.0045525053, 0.0010418925, -0.0068923877, 0...</td>\n",
       "      <td>[0.0048409577, -0.0004996062, 0.0063324616, 0....</td>\n",
       "      <td>[0.0098480452, 0.0022208212, 5.97758e-05, -0.0...</td>\n",
       "    </tr>\n",
       "    <tr>\n",
       "      <th>lmp_4</th>\n",
       "      <td>4000</td>\n",
       "      <td>20.299581</td>\n",
       "      <td>-1269.661700</td>\n",
       "      <td>-4.843280</td>\n",
       "      <td>-5.008587</td>\n",
       "      <td>(Atom('Ne', [1.7462606202, 1.4321776581, 14.75...</td>\n",
       "      <td>64.0</td>\n",
       "      <td>[-0.0036245833, 0.0027762812, 0.003324777, -0....</td>\n",
       "      <td>[0.0002289233, 0.0005190723, 0.0099133184, 0.0...</td>\n",
       "      <td>[0.0008959326, 0.000723354, 0.0071951805, -0.0...</td>\n",
       "    </tr>\n",
       "  </tbody>\n",
       "</table>\n",
       "</div>"
      ],
      "text/plain": [
       "       Step       Temp        Press    TotEng    energy  \\\n",
       "lmp_0     0   0.100000     0.300731 -4.425584 -4.426398   \n",
       "lmp_1  1000   5.624945   -73.317322 -4.412308 -4.458114   \n",
       "lmp_2  2000  10.808590  -428.025400 -4.639121 -4.727139   \n",
       "lmp_3  3000  14.861731 -1202.434200 -4.878347 -4.999372   \n",
       "lmp_4  4000  20.299581 -1269.661700 -4.843280 -5.008587   \n",
       "\n",
       "                                                geometry  size  \\\n",
       "lmp_0  (Atom('Ne', [15.1239130886, 15.1239130886, 0.8...  64.0   \n",
       "lmp_1  (Atom('Ne', [15.1653143436, 15.1792692817, 0.8...  64.0   \n",
       "lmp_2  (Atom('Ne', [0.9063913729, 1.3488837164, 15.02...  64.0   \n",
       "lmp_3  (Atom('Ne', [1.3474466084, 1.2753605426, 14.56...  64.0   \n",
       "lmp_4  (Atom('Ne', [1.7462606202, 1.4321776581, 14.75...  64.0   \n",
       "\n",
       "                                                      fx  \\\n",
       "lmp_0  [0.0, -0.0, -0.0, 0.0, 0.0, -0.0, -0.0, 0.0, 0...   \n",
       "lmp_1  [0.0002044265, 0.0016639457, 0.001921414, -0.0...   \n",
       "lmp_2  [0.0015836836, -0.0023350728, 0.0026551034, 0....   \n",
       "lmp_3  [-0.0045525053, 0.0010418925, -0.0068923877, 0...   \n",
       "lmp_4  [-0.0036245833, 0.0027762812, 0.003324777, -0....   \n",
       "\n",
       "                                                      fy  \\\n",
       "lmp_0  [0.0, -0.0, 0.0, -0.0, 0.0, -0.0, 0.0, -0.0, 0...   \n",
       "lmp_1  [0.0056729229, 0.0009264524, 0.0025165864, -0....   \n",
       "lmp_2  [-3.38791e-05, 0.002999284, -0.0060387845, 0.0...   \n",
       "lmp_3  [0.0048409577, -0.0004996062, 0.0063324616, 0....   \n",
       "lmp_4  [0.0002289233, 0.0005190723, 0.0099133184, 0.0...   \n",
       "\n",
       "                                                      fz  \n",
       "lmp_0  [-0.0, -0.0, 0.0, 0.0, -0.0, -0.0, 0.0, 0.0, -...  \n",
       "lmp_1  [-0.0015951115, -0.0019227623, -0.0035339883, ...  \n",
       "lmp_2  [-0.0036139711, -0.0023498482, 0.0036703891, 0...  \n",
       "lmp_3  [0.0098480452, 0.0022208212, 5.97758e-05, -0.0...  \n",
       "lmp_4  [0.0008959326, 0.000723354, 0.0071951805, -0.0...  "
      ]
     },
     "execution_count": 16,
     "metadata": {},
     "output_type": "execute_result"
    }
   ],
   "source": [
    "df_data.head()"
   ]
  },
  {
   "cell_type": "markdown",
   "metadata": {},
   "source": [
    "# Examine pair distance distribution"
   ]
  },
  {
   "cell_type": "code",
   "execution_count": 17,
   "metadata": {
    "ExecuteTime": {
     "end_time": "2022-07-23T21:59:11.166147Z",
     "start_time": "2022-07-23T21:59:05.375017Z"
    },
    "scrolled": false
   },
   "outputs": [
    {
     "data": {
      "application/vnd.jupyter.widget-view+json": {
       "model_id": "ce5952b0991f4ee49fae4a271609979b",
       "version_major": 2,
       "version_minor": 0
      },
      "text/plain": [
       "  0%|          | 0/401 [00:00<?, ?it/s]"
      ]
     },
     "metadata": {},
     "output_type": "display_data"
    },
    {
     "name": "stdout",
     "output_type": "stream",
     "text": [
      "    Smallest observed: 2.18 angstroms\n",
      "    Suggested Cutoffs: [5.475 6.52  6.96  7.315 7.39  7.475 7.505 7.53  7.575 7.655 7.74  7.825\n",
      " 8.045]\n",
      "    Smallest observed: 2.75 angstroms\n",
      "    Suggested Cutoffs: [4.675 4.715 4.79  4.88  6.18  7.745 8.045 8.105 8.18  8.215 8.27  8.325\n",
      " 8.38  8.46  8.53  8.605]\n",
      "    Smallest observed: 3.39 angstroms\n",
      "    Suggested Cutoffs: [4.95  6.7   7.83  7.97  8.13  8.19  8.35  8.5   8.53  8.565 8.595 8.615\n",
      " 8.86  9.105 9.165 9.23  9.255]\n"
     ]
    },
    {
     "data": {
      "image/png": "[encoded data removed]",
      "text/plain": [
       "<Figure size 420x360 with 1 Axes>"
      ]
     },
     "metadata": {
      "needs_background": "light"
     },
     "output_type": "display_data"
    },
    {
     "data": {
      "image/png": "[encoded data removed]",
      "text/plain": [
       "<Figure size 420x360 with 1 Axes>"
      ]
     },
     "metadata": {
      "needs_background": "light"
     },
     "output_type": "display_data"
    },
    {
     "data": {
      "image/png": "[encoded data removed]",
      "text/plain": [
       "<Figure size 420x360 with 1 Axes>"
      ]
     },
     "metadata": {
      "needs_background": "light"
     },
     "output_type": "display_data"
    }
   ],
   "source": [
    "from uf3.data import analyze\n",
    "from tqdm.auto import tqdm\n",
    "\n",
    "analyzer = analyze.DataAnalyzer(chemical_system, \n",
    "                                r_cut=10.0,\n",
    "                                bins=0.01,\n",
    "                                min_peak_width=0.2,)\n",
    "\n",
    "atoms_key = data_coordinator.atoms_key\n",
    "histogram_slice = np.random.choice(np.arange(len(df_data)),\n",
    "                                   min(1000, len(df_data)),\n",
    "                                   replace=False)\n",
    "df_slice = df_data[atoms_key].iloc[histogram_slice]\n",
    "analyzer.load_entries(df_slice)\n",
    "\n",
    "analysis = analyzer.analyze(smooth=True,\n",
    "                            filter_width=101,\n",
    "                            filter_degree=3)\n",
    "\n",
    "canvases = plotting.plot_pair_distributions(analysis, show_cutoffs=False)\n",
    "for fig, ax in canvases:\n",
    "    fig.set_dpi(120)\n",
    "    fig.tight_layout()\n",
    "    # fig.show()\n",
    "#     ax.set_ylim(0, 100)"
   ]
  },
  {
   "cell_type": "markdown",
   "metadata": {
    "pycharm": {
     "name": "#%% md\n"
    }
   },
   "source": [
    "# Compute energy and force features"
   ]
  },
  {
   "cell_type": "code",
   "execution_count": 18,
   "metadata": {
    "ExecuteTime": {
     "end_time": "2022-07-23T21:59:11.169718Z",
     "start_time": "2022-07-23T21:59:11.167321Z"
    }
   },
   "outputs": [],
   "source": [
    "representation = process.BasisFeaturizer(bspline_config)"
   ]
  },
  {
   "cell_type": "code",
   "execution_count": 19,
   "metadata": {
    "ExecuteTime": {
     "end_time": "2022-07-23T21:59:11.178369Z",
     "start_time": "2022-07-23T21:59:11.171022Z"
    }
   },
   "outputs": [],
   "source": [
    "client = ProcessPoolExecutor(max_workers=n_cores)"
   ]
  },
  {
   "cell_type": "code",
   "execution_count": 20,
   "metadata": {
    "ExecuteTime": {
     "end_time": "2022-07-23T21:59:19.613464Z",
     "start_time": "2022-07-23T21:59:11.179962Z"
    }
   },
   "outputs": [
    {
     "data": {
      "application/vnd.jupyter.widget-view+json": {
       "model_id": "3cb97787a1c2406ab8159681b4a028d7",
       "version_major": 2,
       "version_minor": 0
      },
      "text/plain": [
       "  0%|          | 0/64 [00:00<?, ?it/s]"
      ]
     },
     "metadata": {},
     "output_type": "display_data"
    }
   ],
   "source": [
    "n_batches = n_cores * 16  # added granularity for more progress bar updates\n",
    "df_features = representation.evaluate_parallel(df_data,\n",
    "                                               client,\n",
    "                                               energy_key=data_coordinator.energy_key,\n",
    "                                               n_jobs=n_batches)"
   ]
  },
  {
   "cell_type": "code",
   "execution_count": 21,
   "metadata": {
    "ExecuteTime": {
     "end_time": "2022-07-23T21:59:19.638749Z",
     "start_time": "2022-07-23T21:59:19.614817Z"
    }
   },
   "outputs": [
    {
     "data": {
      "text/html": [
       "<div>\n",
       "<style scoped>\n",
       "    .dataframe tbody tr th:only-of-type {\n",
       "        vertical-align: middle;\n",
       "    }\n",
       "\n",
       "    .dataframe tbody tr th {\n",
       "        vertical-align: top;\n",
       "    }\n",
       "\n",
       "    .dataframe thead th {\n",
       "        text-align: right;\n",
       "    }\n",
       "</style>\n",
       "<table border=\"1\" class=\"dataframe\">\n",
       "  <thead>\n",
       "    <tr style=\"text-align: right;\">\n",
       "      <th></th>\n",
       "      <th></th>\n",
       "      <th>y</th>\n",
       "      <th>n_Ne</th>\n",
       "      <th>n_Xe</th>\n",
       "      <th>NeNe0</th>\n",
       "      <th>NeNe1</th>\n",
       "      <th>NeNe2</th>\n",
       "      <th>NeNe3</th>\n",
       "      <th>NeNe4</th>\n",
       "      <th>NeNe5</th>\n",
       "      <th>NeNe6</th>\n",
       "      <th>...</th>\n",
       "      <th>XeXe8</th>\n",
       "      <th>XeXe9</th>\n",
       "      <th>XeXe10</th>\n",
       "      <th>XeXe11</th>\n",
       "      <th>XeXe12</th>\n",
       "      <th>XeXe13</th>\n",
       "      <th>XeXe14</th>\n",
       "      <th>XeXe15</th>\n",
       "      <th>XeXe16</th>\n",
       "      <th>XeXe17</th>\n",
       "    </tr>\n",
       "  </thead>\n",
       "  <tbody>\n",
       "    <tr>\n",
       "      <th rowspan=\"5\" valign=\"top\">lmp_0</th>\n",
       "      <th>energy</th>\n",
       "      <td>-4.426398</td>\n",
       "      <td>32.0</td>\n",
       "      <td>32.0</td>\n",
       "      <td>0.0</td>\n",
       "      <td>0.0</td>\n",
       "      <td>0.0</td>\n",
       "      <td>0.0</td>\n",
       "      <td>0.0</td>\n",
       "      <td>0.0</td>\n",
       "      <td>0.0</td>\n",
       "      <td>...</td>\n",
       "      <td>87.665882</td>\n",
       "      <td>0.090161</td>\n",
       "      <td>0.0</td>\n",
       "      <td>0.0</td>\n",
       "      <td>7.935417</td>\n",
       "      <td>106.39909</td>\n",
       "      <td>76.021632</td>\n",
       "      <td>0.0</td>\n",
       "      <td>0.0</td>\n",
       "      <td>0.0</td>\n",
       "    </tr>\n",
       "    <tr>\n",
       "      <th>fx_0</th>\n",
       "      <td>0.000000</td>\n",
       "      <td>0.0</td>\n",
       "      <td>0.0</td>\n",
       "      <td>-0.0</td>\n",
       "      <td>-0.0</td>\n",
       "      <td>-0.0</td>\n",
       "      <td>-0.0</td>\n",
       "      <td>-0.0</td>\n",
       "      <td>-0.0</td>\n",
       "      <td>-0.0</td>\n",
       "      <td>...</td>\n",
       "      <td>-0.000000</td>\n",
       "      <td>-0.000000</td>\n",
       "      <td>-0.0</td>\n",
       "      <td>-0.0</td>\n",
       "      <td>-0.000000</td>\n",
       "      <td>-0.00000</td>\n",
       "      <td>-0.000000</td>\n",
       "      <td>-0.0</td>\n",
       "      <td>-0.0</td>\n",
       "      <td>-0.0</td>\n",
       "    </tr>\n",
       "    <tr>\n",
       "      <th>fx_1</th>\n",
       "      <td>-0.000000</td>\n",
       "      <td>0.0</td>\n",
       "      <td>0.0</td>\n",
       "      <td>-0.0</td>\n",
       "      <td>-0.0</td>\n",
       "      <td>-0.0</td>\n",
       "      <td>-0.0</td>\n",
       "      <td>-0.0</td>\n",
       "      <td>-0.0</td>\n",
       "      <td>-0.0</td>\n",
       "      <td>...</td>\n",
       "      <td>-0.000000</td>\n",
       "      <td>-0.000000</td>\n",
       "      <td>-0.0</td>\n",
       "      <td>-0.0</td>\n",
       "      <td>-0.000000</td>\n",
       "      <td>-0.00000</td>\n",
       "      <td>-0.000000</td>\n",
       "      <td>-0.0</td>\n",
       "      <td>-0.0</td>\n",
       "      <td>-0.0</td>\n",
       "    </tr>\n",
       "    <tr>\n",
       "      <th>fx_2</th>\n",
       "      <td>-0.000000</td>\n",
       "      <td>0.0</td>\n",
       "      <td>0.0</td>\n",
       "      <td>-0.0</td>\n",
       "      <td>-0.0</td>\n",
       "      <td>-0.0</td>\n",
       "      <td>-0.0</td>\n",
       "      <td>-0.0</td>\n",
       "      <td>-0.0</td>\n",
       "      <td>-0.0</td>\n",
       "      <td>...</td>\n",
       "      <td>-0.000000</td>\n",
       "      <td>-0.000000</td>\n",
       "      <td>-0.0</td>\n",
       "      <td>-0.0</td>\n",
       "      <td>-0.000000</td>\n",
       "      <td>-0.00000</td>\n",
       "      <td>-0.000000</td>\n",
       "      <td>-0.0</td>\n",
       "      <td>-0.0</td>\n",
       "      <td>-0.0</td>\n",
       "    </tr>\n",
       "    <tr>\n",
       "      <th>fx_3</th>\n",
       "      <td>0.000000</td>\n",
       "      <td>0.0</td>\n",
       "      <td>0.0</td>\n",
       "      <td>-0.0</td>\n",
       "      <td>-0.0</td>\n",
       "      <td>-0.0</td>\n",
       "      <td>-0.0</td>\n",
       "      <td>-0.0</td>\n",
       "      <td>-0.0</td>\n",
       "      <td>-0.0</td>\n",
       "      <td>...</td>\n",
       "      <td>-0.000000</td>\n",
       "      <td>-0.000000</td>\n",
       "      <td>-0.0</td>\n",
       "      <td>-0.0</td>\n",
       "      <td>-0.000000</td>\n",
       "      <td>-0.00000</td>\n",
       "      <td>-0.000000</td>\n",
       "      <td>-0.0</td>\n",
       "      <td>-0.0</td>\n",
       "      <td>-0.0</td>\n",
       "    </tr>\n",
       "  </tbody>\n",
       "</table>\n",
       "<p>5 rows × 57 columns</p>\n",
       "</div>"
      ],
      "text/plain": [
       "                     y  n_Ne  n_Xe  NeNe0  NeNe1  NeNe2  NeNe3  NeNe4  NeNe5  \\\n",
       "lmp_0 energy -4.426398  32.0  32.0    0.0    0.0    0.0    0.0    0.0    0.0   \n",
       "      fx_0    0.000000   0.0   0.0   -0.0   -0.0   -0.0   -0.0   -0.0   -0.0   \n",
       "      fx_1   -0.000000   0.0   0.0   -0.0   -0.0   -0.0   -0.0   -0.0   -0.0   \n",
       "      fx_2   -0.000000   0.0   0.0   -0.0   -0.0   -0.0   -0.0   -0.0   -0.0   \n",
       "      fx_3    0.000000   0.0   0.0   -0.0   -0.0   -0.0   -0.0   -0.0   -0.0   \n",
       "\n",
       "              NeNe6  ...      XeXe8     XeXe9  XeXe10  XeXe11    XeXe12  \\\n",
       "lmp_0 energy    0.0  ...  87.665882  0.090161     0.0     0.0  7.935417   \n",
       "      fx_0     -0.0  ...  -0.000000 -0.000000    -0.0    -0.0 -0.000000   \n",
       "      fx_1     -0.0  ...  -0.000000 -0.000000    -0.0    -0.0 -0.000000   \n",
       "      fx_2     -0.0  ...  -0.000000 -0.000000    -0.0    -0.0 -0.000000   \n",
       "      fx_3     -0.0  ...  -0.000000 -0.000000    -0.0    -0.0 -0.000000   \n",
       "\n",
       "                 XeXe13     XeXe14  XeXe15  XeXe16  XeXe17  \n",
       "lmp_0 energy  106.39909  76.021632     0.0     0.0     0.0  \n",
       "      fx_0     -0.00000  -0.000000    -0.0    -0.0    -0.0  \n",
       "      fx_1     -0.00000  -0.000000    -0.0    -0.0    -0.0  \n",
       "      fx_2     -0.00000  -0.000000    -0.0    -0.0    -0.0  \n",
       "      fx_3     -0.00000  -0.000000    -0.0    -0.0    -0.0  \n",
       "\n",
       "[5 rows x 57 columns]"
      ]
     },
     "execution_count": 21,
     "metadata": {},
     "output_type": "execute_result"
    }
   ],
   "source": [
    "df_features.head()"
   ]
  },
  {
   "cell_type": "markdown",
   "metadata": {
    "ExecuteTime": {
     "start_time": "2021-09-27T03:31:28.871Z"
    }
   },
   "source": [
    "# Fit model"
   ]
  },
  {
   "cell_type": "code",
   "execution_count": 22,
   "metadata": {
    "ExecuteTime": {
     "end_time": "2022-07-23T21:59:19.646787Z",
     "start_time": "2022-07-23T21:59:19.640207Z"
    }
   },
   "outputs": [],
   "source": [
    "regularizer = bspline_config.get_regularization_matrix(ridge_1b=1e-6,\n",
    "                                                       ridge_2b=0.0,\n",
    "                                                       curvature_2b=1e-8)\n",
    "\n",
    "model = least_squares.WeightedLinearModel(bspline_config,\n",
    "                                          regularizer=regularizer)"
   ]
  },
  {
   "cell_type": "markdown",
   "metadata": {},
   "source": [
    "Train with 50% of the dataset (200 samples)"
   ]
  },
  {
   "cell_type": "code",
   "execution_count": 23,
   "metadata": {
    "ExecuteTime": {
     "end_time": "2022-07-23T21:59:19.662925Z",
     "start_time": "2022-07-23T21:59:19.648206Z"
    }
   },
   "outputs": [],
   "source": [
    "training_keys = df_data.index[:n_train]\n",
    "df_slice = df_features.loc[training_keys]\n",
    "n_elements = len(chemical_system.element_list)\n",
    "x_e, y_e, x_f, y_f = least_squares.dataframe_to_tuples(df_slice,\n",
    "                                                       n_elements=n_elements,\n",
    "                                                       energy_key=\"energy\")"
   ]
  },
  {
   "cell_type": "markdown",
   "metadata": {},
   "source": [
    "# Fit with energies and force"
   ]
  },
  {
   "cell_type": "code",
   "execution_count": 24,
   "metadata": {
    "ExecuteTime": {
     "end_time": "2022-07-23T21:59:19.685626Z",
     "start_time": "2022-07-23T21:59:19.663905Z"
    }
   },
   "outputs": [],
   "source": [
    "model.fit(x_e, y_e, x_f, y_f, weight=0.5)\n",
    "solutions = least_squares.arrange_coefficients(model.coefficients, \n",
    "                                               bspline_config)"
   ]
  },
  {
   "cell_type": "code",
   "execution_count": 25,
   "metadata": {
    "ExecuteTime": {
     "end_time": "2022-07-23T21:59:19.990234Z",
     "start_time": "2022-07-23T21:59:19.686801Z"
    }
   },
   "outputs": [
    {
     "data": {
      "image/png": "[encoded data removed]",
      "text/plain": [
       "<Figure size 1200x400 with 3 Axes>"
      ]
     },
     "metadata": {
      "needs_background": "light"
     },
     "output_type": "display_data"
    }
   ],
   "source": [
    "fig, axes = plt.subplots(1, 3, figsize=(6, 2), dpi=200)\n",
    "for j, interaction in enumerate(bspline_config.interactions_map[2]):\n",
    "    coefficients = solutions[interaction]\n",
    "    knot_sequence = bspline_config.knots_map[interaction]\n",
    "    plotting.visualize_splines(coefficients, \n",
    "                               knot_sequence, \n",
    "                               ax=axes[j])\n",
    "    axes[j].set_title(\"-\".join(interaction))\n",
    "    axes[j].set_ylim(-0.015, 0.015)\n",
    "fig.tight_layout()\n"
   ]
  },
  {
   "cell_type": "markdown",
   "metadata": {
    "ExecuteTime": {
     "end_time": "2021-09-27T04:15:40.920319Z",
     "start_time": "2021-09-27T04:15:40.917610Z"
    }
   },
   "source": [
    "# Prediction"
   ]
  },
  {
   "cell_type": "code",
   "execution_count": 26,
   "metadata": {
    "ExecuteTime": {
     "end_time": "2022-07-23T21:59:19.993437Z",
     "start_time": "2022-07-23T21:59:19.991141Z"
    }
   },
   "outputs": [],
   "source": [
    "# predict with remainder of dataset\n",
    "holdout_keys = df_data.index.difference(training_keys)"
   ]
  },
  {
   "cell_type": "code",
   "execution_count": 27,
   "metadata": {
    "ExecuteTime": {
     "end_time": "2022-07-23T21:59:20.010135Z",
     "start_time": "2022-07-23T21:59:19.994418Z"
    }
   },
   "outputs": [],
   "source": [
    "df_holdout = df_features.loc[holdout_keys]\n",
    "x_e, y_e, x_f, y_f = least_squares.dataframe_to_tuples(df_holdout,\n",
    "                                                       n_elements=n_elements,\n",
    "                                                       energy_key=\"energy\")"
   ]
  },
  {
   "cell_type": "code",
   "execution_count": 28,
   "metadata": {
    "ExecuteTime": {
     "end_time": "2022-07-23T21:59:20.014635Z",
     "start_time": "2022-07-23T21:59:20.012608Z"
    }
   },
   "outputs": [],
   "source": [
    "p_e = model.predict(x_e)"
   ]
  },
  {
   "cell_type": "code",
   "execution_count": 29,
   "metadata": {
    "ExecuteTime": {
     "end_time": "2022-07-23T21:59:20.019865Z",
     "start_time": "2022-07-23T21:59:20.015708Z"
    }
   },
   "outputs": [],
   "source": [
    "p_f = model.predict(x_f)"
   ]
  },
  {
   "cell_type": "code",
   "execution_count": 30,
   "metadata": {
    "ExecuteTime": {
     "end_time": "2022-07-23T21:59:20.122410Z",
     "start_time": "2022-07-23T21:59:20.020869Z"
    }
   },
   "outputs": [
    {
     "data": {
      "image/png": "[encoded data removed]",
      "text/plain": [
       "<Figure size 432x288 with 1 Axes>"
      ]
     },
     "metadata": {
      "needs_background": "light"
     },
     "output_type": "display_data"
    }
   ],
   "source": [
    "plotting.density_scatter(y_e, p_e)\n",
    "plt.tight_layout()"
   ]
  },
  {
   "cell_type": "code",
   "execution_count": 31,
   "metadata": {
    "ExecuteTime": {
     "end_time": "2022-07-23T21:59:21.175671Z",
     "start_time": "2022-07-23T21:59:20.123601Z"
    }
   },
   "outputs": [
    {
     "data": {
      "image/png": "[encoded data removed]",
      "text/plain": [
       "<Figure size 432x288 with 1 Axes>"
      ]
     },
     "metadata": {
      "needs_background": "light"
     },
     "output_type": "display_data"
    }
   ],
   "source": [
    "plotting.density_scatter(y_f, p_f)\n",
    "plt.tight_layout()"
   ]
  },
  {
   "cell_type": "code",
   "execution_count": 32,
   "metadata": {
    "ExecuteTime": {
     "end_time": "2022-07-23T21:59:21.184510Z",
     "start_time": "2022-07-23T21:59:21.177093Z"
    }
   },
   "outputs": [
    {
     "data": {
      "text/plain": [
       "{'coefficients': {'Ne': 0.0,\n",
       "  'Xe': 0.0,\n",
       "  ('Ne',\n",
       "   'Ne'): array([ 3.19203578e-01,  1.14089759e-01,  2.90687547e-02,  2.32461748e-03,\n",
       "         -2.23374752e-03, -2.67909319e-03, -2.12214665e-03, -1.82679145e-03,\n",
       "         -1.29997527e-03, -9.00560269e-04, -7.30260036e-04, -3.55273298e-04,\n",
       "         -4.09259581e-04, -4.01817156e-05, -2.08314613e-04,  0.00000000e+00,\n",
       "          0.00000000e+00,  0.00000000e+00]),\n",
       "  ('Ne',\n",
       "   'Xe'): array([ 8.21703312e-01,  2.75578111e-01,  8.31845865e-02,  1.43135780e-02,\n",
       "         -1.22948223e-03, -4.26420984e-03, -4.06881657e-03, -3.19922156e-03,\n",
       "         -2.52667247e-03, -1.85746556e-03, -1.18786069e-03, -8.81964906e-04,\n",
       "         -4.98659895e-04, -2.29218084e-04, -2.17241952e-04,  0.00000000e+00,\n",
       "          0.00000000e+00,  0.00000000e+00]),\n",
       "  ('Xe',\n",
       "   'Xe'): array([ 5.93802729e-01,  4.39600482e-01,  1.31207263e-01,  1.60125442e-02,\n",
       "         -9.59910134e-03, -1.30257195e-02, -1.07731643e-02, -8.41143435e-03,\n",
       "         -5.78458785e-03, -4.38341680e-03, -2.72203907e-03, -1.81710543e-03,\n",
       "         -9.99917626e-04, -6.21098505e-04, -3.66927765e-04,  0.00000000e+00,\n",
       "          0.00000000e+00,  0.00000000e+00])},\n",
       " 'knots': {('Ne',\n",
       "   'Ne'): array([2.        , 2.        , 2.        , 2.        , 2.26666667,\n",
       "         2.53333333, 2.8       , 3.06666667, 3.33333333, 3.6       ,\n",
       "         3.86666667, 4.13333333, 4.4       , 4.66666667, 4.93333333,\n",
       "         5.2       , 5.46666667, 5.73333333, 6.        , 6.        ,\n",
       "         6.        , 6.        ]),\n",
       "  ('Ne',\n",
       "   'Xe'): array([2.5, 2.5, 2.5, 2.5, 2.8, 3.1, 3.4, 3.7, 4. , 4.3, 4.6, 4.9, 5.2,\n",
       "         5.5, 5.8, 6.1, 6.4, 6.7, 7. , 7. , 7. , 7. ]),\n",
       "  ('Xe',\n",
       "   'Xe'): array([3.        , 3.        , 3.        , 3.        , 3.33333333,\n",
       "         3.66666667, 4.        , 4.33333333, 4.66666667, 5.        ,\n",
       "         5.33333333, 5.66666667, 6.        , 6.33333333, 6.66666667,\n",
       "         7.        , 7.33333333, 7.66666667, 8.        , 8.        ,\n",
       "         8.        , 8.        ])},\n",
       " 'data_coverage': array([False, False,  True,  True,  True,  True,  True,  True,  True,\n",
       "         True,  True,  True,  True,  True,  True,  True,  True, False,\n",
       "        False, False,  True,  True,  True,  True,  True,  True,  True,\n",
       "         True,  True,  True,  True,  True,  True,  True,  True, False,\n",
       "        False, False, False,  True,  True,  True,  True,  True,  True,\n",
       "         True,  True,  True,  True,  True,  True,  True,  True, False,\n",
       "        False, False]),\n",
       " 'knot_strategy': 'linear',\n",
       " 'offset_1b': False,\n",
       " 'leading_trim': 0,\n",
       " 'trailing_trim': 3,\n",
       " 'knots_map': {('Ne',\n",
       "   'Ne'): array([2.        , 2.        , 2.        , 2.        , 2.26666667,\n",
       "         2.53333333, 2.8       , 3.06666667, 3.33333333, 3.6       ,\n",
       "         3.86666667, 4.13333333, 4.4       , 4.66666667, 4.93333333,\n",
       "         5.2       , 5.46666667, 5.73333333, 6.        , 6.        ,\n",
       "         6.        , 6.        ]),\n",
       "  ('Ne',\n",
       "   'Xe'): array([2.5, 2.5, 2.5, 2.5, 2.8, 3.1, 3.4, 3.7, 4. , 4.3, 4.6, 4.9, 5.2,\n",
       "         5.5, 5.8, 6.1, 6.4, 6.7, 7. , 7. , 7. , 7. ]),\n",
       "  ('Xe',\n",
       "   'Xe'): array([3.        , 3.        , 3.        , 3.        , 3.33333333,\n",
       "         3.66666667, 4.        , 4.33333333, 4.66666667, 5.        ,\n",
       "         5.33333333, 5.66666667, 6.        , 6.33333333, 6.66666667,\n",
       "         7.        , 7.33333333, 7.66666667, 8.        , 8.        ,\n",
       "         8.        , 8.        ])},\n",
       " 'element_list': ('Ne', 'Xe'),\n",
       " 'degree': 2}"
      ]
     },
     "execution_count": 32,
     "metadata": {},
     "output_type": "execute_result"
    }
   ],
   "source": [
    "model.dump()"
   ]
  },
  {
   "cell_type": "markdown",
   "metadata": {
    "pycharm": {
     "name": "#%% md\n"
    }
   },
   "source": [
    "# Export tabulated potentials"
   ]
  },
  {
   "cell_type": "code",
   "execution_count": 33,
   "metadata": {
    "ExecuteTime": {
     "end_time": "2022-07-23T21:59:21.189085Z",
     "start_time": "2022-07-23T21:59:21.185841Z"
    }
   },
   "outputs": [],
   "source": [
    "model.to_json(\"model_pair.json\")"
   ]
  },
  {
   "cell_type": "code",
   "execution_count": 34,
   "metadata": {
    "ExecuteTime": {
     "end_time": "2022-07-23T21:59:21.378100Z",
     "start_time": "2022-07-23T21:59:21.190602Z"
    },
    "pycharm": {
     "name": "#%%\n"
    }
   },
   "outputs": [],
   "source": [
    "table_list = []\n",
    "pair_list = chemical_system.interactions_map[2]\n",
    "solutions = least_squares.arrange_coefficients(model.coefficients, \n",
    "                                               bspline_config)\n",
    "for pair in pair_list:\n",
    "    text = lammps.export_tabulated_potential(representation.knots_map[pair],\n",
    "                                             solutions[pair],\n",
    "                                             pair,\n",
    "                                             grid=1000,\n",
    "                                             filename=None)\n",
    "    table_list.append(text)\n",
    "combined_text = \"\\n\\n\\n\".join(table_list)\n",
    "table_name = os.path.join(example_directory, \"table_test\", \"Ne_Xe.table\")\n",
    "with open(table_name, \"w\") as f:\n",
    "    f.write(combined_text)"
   ]
  },
  {
   "cell_type": "markdown",
   "metadata": {},
   "source": [
    "# Compute energy, forces, stress with UFCalculator"
   ]
  },
  {
   "cell_type": "code",
   "execution_count": 35,
   "metadata": {
    "ExecuteTime": {
     "end_time": "2022-07-23T21:59:21.463005Z",
     "start_time": "2022-07-23T21:59:21.379482Z"
    },
    "pycharm": {
     "name": "#%%\n"
    }
   },
   "outputs": [
    {
     "name": "stdout",
     "output_type": "stream",
     "text": [
      "Energy: -5.2410866164160606\n",
      "Stresses (numerical): [ 1.22991594e-03  1.05519564e-03  1.01591163e-03 -7.28851825e-05\n",
      " -2.87652915e-05  3.41308693e-05]\n",
      "Max force: 0.015245878356381595\n"
     ]
    }
   ],
   "source": [
    "calc = calculator.UFCalculator(model)\n",
    "\n",
    "geom = df_data.iloc[200][\"geometry\"].copy()\n",
    "geom.set_calculator(calc)\n",
    "print(\"Energy:\", geom.get_potential_energy())\n",
    "print(\"Stresses (numerical):\", geom.get_stress())\n",
    "print(\"Max force:\", np.max(np.abs(geom.get_forces())))"
   ]
  },
  {
   "cell_type": "markdown",
   "metadata": {
    "pycharm": {
     "name": "#%% md\n"
    }
   },
   "source": [
    "# Compare with UFLammps calculator"
   ]
  },
  {
   "cell_type": "code",
   "execution_count": 36,
   "metadata": {
    "ExecuteTime": {
     "end_time": "2022-07-23T21:59:24.420855Z",
     "start_time": "2022-07-23T21:59:21.464206Z"
    },
    "pycharm": {
     "name": "#%%\n"
    }
   },
   "outputs": [
    {
     "name": "stdout",
     "output_type": "stream",
     "text": [
      "Energy: -5.24106841648541\n",
      "Stresses (numerical): [ 1.22991048e-03  1.05518584e-03  1.01591554e-03 -7.28810135e-05\n",
      " -2.87688627e-05  3.41265439e-05]\n",
      "Max force: 0.015246451527742363\n"
     ]
    }
   ],
   "source": [
    "calc = lammps.UFLammps(lmpcmds=[\"pair_style table spline 1000\",\n",
    "                                \"pair_coeff 1 1 table_test/Ne_Xe.table UF_Ne-Ne 6.0\",\n",
    "                                \"pair_coeff 1 2 table_test/Ne_Xe.table UF_Ne-Xe 7.0\",\n",
    "                                \"pair_coeff 2 2 table_test/Ne_Xe.table UF_Xe-Xe 8.0\"],\n",
    "                       keep_alive=True)\n",
    "geom.calc = calc\n",
    "print(\"Energy:\", geom.get_potential_energy())\n",
    "print(\"Stresses (numerical):\", geom.get_stress())\n",
    "lammps_forces = geom.get_forces()\n",
    "print(\"Max force:\", np.max(np.abs(lammps_forces)))\n",
    "del calc"
   ]
  },
  {
   "cell_type": "markdown",
   "metadata": {
    "pycharm": {
     "name": "#%% md\n"
    }
   },
   "source": [
    "# Relax with UFLammps calculator"
   ]
  },
  {
   "cell_type": "code",
   "execution_count": 37,
   "metadata": {
    "ExecuteTime": {
     "end_time": "2022-07-23T21:59:24.446165Z",
     "start_time": "2022-07-23T21:59:24.422082Z"
    },
    "pycharm": {
     "name": "#%%\n"
    }
   },
   "outputs": [
    {
     "name": "stdout",
     "output_type": "stream",
     "text": [
      "Relaxation Steps: 79\n",
      "Energy: -5.440292408104828\n",
      "Stresses (numerical): [ 1.52897145e-04 -9.05046754e-05 -6.40580950e-05 -1.28703236e-04\n",
      "  2.44257105e-05  6.19145298e-05]\n",
      "Max force: 0.0051164101278989025\n"
     ]
    }
   ],
   "source": [
    "calc = lammps.UFLammps(lmpcmds=[\"pair_style table spline 1000\",\n",
    "                                \"pair_coeff 1 1 table_test/Ne_Xe.table UF_Ne-Ne 6.0\",\n",
    "                                \"pair_coeff 1 2 table_test/Ne_Xe.table UF_Ne-Xe 7.0\",\n",
    "                                \"pair_coeff 2 2 table_test/Ne_Xe.table UF_Xe-Xe 8.0\"],\n",
    "                       keep_alive=True)\n",
    "calc.relax(geom)\n",
    "print(\"Relaxation Steps:\", calc.results[\"nsteps\"])\n",
    "geom.calc = calc\n",
    "print(\"Energy:\", geom.get_potential_energy())\n",
    "print(\"Stresses (numerical):\", geom.get_stress())\n",
    "lammps_forces = geom.get_forces()\n",
    "print(\"Max force:\", np.max(np.abs(lammps_forces)))\n",
    "del calc"
   ]
  },
  {
   "cell_type": "code",
   "execution_count": null,
   "metadata": {
    "pycharm": {
     "name": "#%%\n"
    }
   },
   "outputs": [],
   "source": []
  }
 ],
 "metadata": {
  "kernelspec": {
   "display_name": "Python 3 (ipykernel)",
   "language": "python",
   "name": "python3"
  },
  "language_info": {
   "codemirror_mode": {
    "name": "ipython",
    "version": 3
   },
   "file_extension": ".py",
   "mimetype": "text/x-python",
   "name": "python",
   "nbconvert_exporter": "python",
   "pygments_lexer": "ipython3",
   "version": "3.7.11"
  },
  "toc": {
   "base_numbering": 1,
   "nav_menu": {},
   "number_sections": true,
   "sideBar": true,
   "skip_h1_title": false,
   "title_cell": "Table of Contents",
   "title_sidebar": "Contents",
   "toc_cell": false,
   "toc_position": {},
   "toc_section_display": true,
   "toc_window_display": false
  }
 },
 "nbformat": 4,
 "nbformat_minor": 1
}
